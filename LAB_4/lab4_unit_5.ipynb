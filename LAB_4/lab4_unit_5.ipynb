{
 "cells": [
  {
   "cell_type": "code",
   "execution_count": 1,
   "metadata": {},
   "outputs": [
    {
     "name": "stdout",
     "output_type": "stream",
     "text": [
      "List after append: [1, 2, 4, 3, 5, 6]\n",
      "List after extend: [1, 2, 4, 3, 5, 6, 55, 66]\n",
      "List after insert[1]: 20: [1, 20, 2, 4, 3, 5, 6, 55, 66]\n",
      "List after remove 20: [1, 2, 4, 3, 5, 6, 55, 66]\n",
      "List after pop: [1, 2, 4, 3, 5, 6, 55]\n",
      "Pop value: 66\n",
      "Value 4 in index: 2\n",
      "List after count(2): 1\n",
      "List after Sort: [1, 2, 3, 4, 5, 6, 55]\n",
      "List after Reverse: [55, 6, 5, 4, 3, 2, 1]\n"
     ]
    }
   ],
   "source": [
    "# Slide Unit 5 page 13, 14, 15,16, 18, 20\n",
    "# เปิดไฟล์ Slide Unit 5 เขียนโค้ดโปรแกรมหน้าที่ 13, 14, 15, 16, 18, 20\n",
    "\n",
    "\"\"\"\" Common Metthods: \n",
    "append(), extend(), insert()\n",
    "remove(), pop(), index()\n",
    "count(), sort(), reverse()\n",
    "\"\"\"\n",
    "# test use funtions method\n",
    "\n",
    "# Define list\n",
    "list = [1, 2, 4, 3, 5]\n",
    "list_extend = [55,66]\n",
    "\n",
    "# append(): add one elements in to list\n",
    "list.append(6)\n",
    "print(\"List after append:\", list)\n",
    "\n",
    "# extend(): add more elements in to list\n",
    "list.extend(list_extend)\n",
    "print(\"List after extend:\", list)\n",
    "\n",
    "# insert(): Can define data to index and element \n",
    "list.insert(1,20)\n",
    "print(\"List after insert[1]: 20:\", list)\n",
    "\n",
    "# remove(): Delete the data completely.\n",
    "list.remove(20)\n",
    "print(\"List after remove 20:\", list)\n",
    "\n",
    "# pop(): pop data Last in - Frist Out\n",
    "pop_data = list.pop()\n",
    "print(\"List after pop:\", list)\n",
    "print(\"Pop value:\", pop_data)\n",
    "\n",
    "# index(): Find the value data in index\n",
    "print(\"Value 4 in index:\", list.index(4))\n",
    "\n",
    "# count(): count value you want in list\n",
    "print(\"List after count(2):\", list.count(2))\n",
    "\n",
    "# sort()\n",
    "list.sort()\n",
    "print(\"List after Sort:\", list)\n",
    "\n",
    "# reverse()\n",
    "list.reverse()\n",
    "print(\"List after Reverse:\", list)\n"
   ]
  },
  {
   "cell_type": "code",
   "execution_count": 3,
   "metadata": {},
   "outputs": [
    {
     "name": "stdout",
     "output_type": "stream",
     "text": [
      "Updated list: [2, 10, 4, 5, 6]\n"
     ]
    }
   ],
   "source": [
    "\"\"\"\" Page 13  | Advance Example : Creating and Manipulating Lists \"\"\"\n",
    "# Example 1: Creating and manipulating lists\n",
    "\n",
    "# Craeting a list of numbers\n",
    "numbers =[1,2,3,4,5]\n",
    "\n",
    "# Adding elements to the end of the list\n",
    "numbers.append(6)\n",
    "\n",
    "# Modifying an element at a specific index\n",
    "numbers[2] = 10\n",
    "\n",
    "# Removing an element by value\n",
    "numbers.remove(1)\n",
    "\n",
    "print(\"Updated list:\", numbers)"
   ]
  },
  {
   "cell_type": "code",
   "execution_count": 3,
   "metadata": {},
   "outputs": [
    {
     "name": "stdout",
     "output_type": "stream",
     "text": [
      "Squares: [1, 4, 9, 16, 25]\n"
     ]
    }
   ],
   "source": [
    "\"\"\"\" Page 14 | Advance Example : List Comprehensions \"\"\"\n",
    "\n",
    "# Example 2: List Comprehension to create a new list\n",
    "\n",
    "# Creating a list of sqaures of numbers from 1 to 5\n",
    "squares = [x **2 for x in range(1,6)]\n",
    "\n",
    "print(\"Squares:\",squares)  # Output: [1, 4, 9, 16, 25]"
   ]
  },
  {
   "cell_type": "code",
   "execution_count": 4,
   "metadata": {},
   "outputs": [
    {
     "name": "stdout",
     "output_type": "stream",
     "text": [
      "Sorted list: [1, 2, 3, 5, 8]\n",
      "Reversed list: [8, 5, 3, 2, 1]\n"
     ]
    }
   ],
   "source": [
    "\"\"\"\" Page 15 | Advance Example : Sorting and Reversing Lists \"\"\"\n",
    "\n",
    "# Example 3: Sorting and reversing a list\n",
    "\n",
    "numbers = [5, 2, 8, 1, 3]\n",
    "\n",
    "# Sorting the list\n",
    "numbers.sort()\n",
    "print(\"Sorted list:\",numbers)  # Output [1, 2, 3, 5, 8]\n",
    "\n",
    "# Reversing the list\n",
    "numbers.reverse()\n",
    "print(\"Reversed list:\", numbers)  # Output [8, 5, 3, 2, 1]\n"
   ]
  },
  {
   "cell_type": "code",
   "execution_count": 5,
   "metadata": {},
   "outputs": [
    {
     "ename": "ValueError",
     "evalue": "invalid literal for int() with base 10: ''",
     "output_type": "error",
     "traceback": [
      "\u001b[1;31m---------------------------------------------------------------------------\u001b[0m",
      "\u001b[1;31mValueError\u001b[0m                                Traceback (most recent call last)",
      "Cell \u001b[1;32mIn[5], line 13\u001b[0m\n\u001b[0;32m      6\u001b[0m matrix \u001b[38;5;241m=\u001b[39m [\n\u001b[0;32m      7\u001b[0m     [\u001b[38;5;241m1\u001b[39m,\u001b[38;5;241m2\u001b[39m,\u001b[38;5;241m3\u001b[39m],\n\u001b[0;32m      8\u001b[0m     [\u001b[38;5;241m4\u001b[39m,\u001b[38;5;241m5\u001b[39m,\u001b[38;5;241m6\u001b[39m],\n\u001b[0;32m      9\u001b[0m     [\u001b[38;5;241m7\u001b[39m,\u001b[38;5;241m8\u001b[39m,\u001b[38;5;241m9\u001b[39m]\n\u001b[0;32m     10\u001b[0m ]\n\u001b[0;32m     12\u001b[0m \u001b[38;5;66;03m# Acessing elements in the matrix \u001b[39;00m\n\u001b[1;32m---> 13\u001b[0m rows \u001b[38;5;241m=\u001b[39m \u001b[38;5;28;43mint\u001b[39;49m\u001b[43m(\u001b[49m\u001b[38;5;28;43minput\u001b[39;49m\u001b[43m(\u001b[49m\u001b[38;5;124;43m\"\u001b[39;49m\u001b[38;5;124;43mEnter row:\u001b[39;49m\u001b[38;5;124;43m\"\u001b[39;49m\u001b[43m)\u001b[49m\u001b[43m)\u001b[49m\n\u001b[0;32m     14\u001b[0m colume \u001b[38;5;241m=\u001b[39m \u001b[38;5;28mint\u001b[39m(\u001b[38;5;28minput\u001b[39m(\u001b[38;5;124m\"\u001b[39m\u001b[38;5;124mEnter Colume:\u001b[39m\u001b[38;5;124m\"\u001b[39m))\n\u001b[0;32m     15\u001b[0m \u001b[38;5;28mprint\u001b[39m(matrix[rows][colume]) \n",
      "\u001b[1;31mValueError\u001b[0m: invalid literal for int() with base 10: ''"
     ]
    }
   ],
   "source": [
    "\"\"\"  Page 16 | Advance Example : Nested Lists \"\"\"\n",
    "\n",
    "# Example 4: Nested lists\n",
    "\n",
    "# matrix start begin row = 0 and colume = 0\n",
    "matrix = [\n",
    "    [1,2,3],\n",
    "    [4,5,6],\n",
    "    [7,8,9]\n",
    "]\n",
    "\n",
    "# Acessing elements in the matrix \n",
    "rows = int(input(\"Enter row:\"))\n",
    "colume = int(input(\"Enter Colume:\"))\n",
    "print(matrix[rows][colume]) \n"
   ]
  },
  {
   "cell_type": "code",
   "execution_count": null,
   "metadata": {},
   "outputs": [
    {
     "name": "stdout",
     "output_type": "stream",
     "text": [
      "Peopped item from stack: 3\n",
      "Dequeued item from queue: 1\n"
     ]
    }
   ],
   "source": [
    "\"\"\" Page 18| Advace Example: List as Stacks and Queues \"\"\"\n",
    "\n",
    "# Example 6: Using lists as stacks and queues\n",
    "\n",
    "# Stack operations (Last In, Frist Out - LIFOd)\n",
    "stack = []\n",
    "stack.append(1)\n",
    "stack.append(2)\n",
    "stack.append(3)\n",
    "popped_item = stack.pop()\n",
    "print(\"Peopped item from stack:\", popped_item) # Output: Popped item from stack: 3\n",
    "\n",
    "# Queue operations (Frist In, Frist Out - FIFO)\n",
    "from collections import deque\n",
    "queue = deque([1, 2, 3])\n",
    "queue.append(4)\n",
    "dequeued_item = queue.popleft()\n",
    "print(\"Dequeued item from queue:\", dequeued_item)  # Output: Dequeued item from queue: 1"
   ]
  },
  {
   "cell_type": "code",
   "execution_count": 6,
   "metadata": {},
   "outputs": [
    {
     "name": "stdout",
     "output_type": "stream",
     "text": [
      "After append: [1, 2, 3]\n",
      "After extend: [1, 2, 3, 4, 5, 6]\n",
      "After insert: [0, 1, 2, 3, 4, 5, 6]\n",
      "After remove: [0, 1, 2, 4, 5, 6]\n",
      "After pop: [0, 1, 4, 5, 6]\n",
      "Popped value: 2\n",
      "Index of 4: 2\n",
      "Count of 2: 0\n",
      "After sort: [0, 1, 4, 5, 6]\n",
      "After reverse: [6, 5, 4, 1, 0]\n"
     ]
    }
   ],
   "source": [
    "\"\"\" Page 20| Practice Exercise \"\"\"\n",
    "\n",
    "# given a list numbers, remove all occurrences of a specific numbers and calculate the sum of remaining numbers.\n",
    "\n",
    "# เริ่มต้นด้วยลิสต์ที่ว่างเปล่า\n",
    "my_list = []\n",
    "\n",
    "# การใช้ append() เพื่อเพิ่มค่าเข้าไปในลิสต์ทีละค่า\n",
    "my_list.append(1)\n",
    "my_list.append(2)\n",
    "my_list.append(3)\n",
    "print(\"After append:\", my_list)\n",
    "\n",
    "# การใช้ extend() เพื่อเพิ่มค่าหลายค่าเข้าไปในลิสต์\n",
    "my_list.extend([4, 5, 6])\n",
    "print(\"After extend:\", my_list)\n",
    "\n",
    "# การใช้ insert() เพื่อแทรกค่าเข้าไปในตำแหน่งที่ต้องการ\n",
    "my_list.insert(0, 0)\n",
    "print(\"After insert:\", my_list)\n",
    "\n",
    "# การใช้ remove() เพื่อลบค่าที่ต้องการออกจากลิสต์\n",
    "my_list.remove(3)\n",
    "print(\"After remove:\", my_list)\n",
    "\n",
    "# การใช้ pop() เพื่อลบค่าตามตำแหน่งที่ต้องการและคืนค่าที่ถูกลบ\n",
    "popped_value = my_list.pop(2)\n",
    "print(\"After pop:\", my_list)\n",
    "print(\"Popped value:\", popped_value)\n",
    "\n",
    "# การใช้ index() เพื่อหาตำแหน่งของค่าที่ต้องการในลิสต์\n",
    "index_of_four = my_list.index(4)\n",
    "print(\"Index of 4:\", index_of_four)\n",
    "\n",
    "# การใช้ count() เพื่อหาจำนวนครั้งที่ค่าหนึ่งๆ ปรากฏในลิสต์\n",
    "count_of_two = my_list.count(2)\n",
    "print(\"Count of 2:\", count_of_two)\n",
    "\n",
    "# การใช้ sort() เพื่อเรียงลำดับค่าในลิสต์\n",
    "my_list.sort()\n",
    "print(\"After sort:\", my_list)\n",
    "\n",
    "# การใช้ reverse() เพื่อเรียงลำดับค่าจากหลังมาหน้า\n",
    "my_list.reverse()\n",
    "print(\"After reverse:\", my_list)\n"
   ]
  }
 ],
 "metadata": {
  "kernelspec": {
   "display_name": "Python 3",
   "language": "python",
   "name": "python3"
  },
  "language_info": {
   "codemirror_mode": {
    "name": "ipython",
    "version": 3
   },
   "file_extension": ".py",
   "mimetype": "text/x-python",
   "name": "python",
   "nbconvert_exporter": "python",
   "pygments_lexer": "ipython3",
   "version": "3.12.4"
  }
 },
 "nbformat": 4,
 "nbformat_minor": 2
}
